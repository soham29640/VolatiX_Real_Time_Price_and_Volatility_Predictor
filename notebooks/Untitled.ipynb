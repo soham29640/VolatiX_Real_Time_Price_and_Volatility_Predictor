{
 "cells": [
  {
   "cell_type": "code",
   "execution_count": 1,
   "id": "2ad0645d",
   "metadata": {},
   "outputs": [
    {
     "name": "stderr",
     "output_type": "stream",
     "text": [
      "c:\\Users\\KIIT0001\\Documents\\Github project\\VolatiX_Real_Time_Price_and_Volatility_Predictor\\src\\utils\\data_loader.py:5: FutureWarning: YF.download() has changed argument auto_adjust default to True\n",
      "  df = yf.download(ticker, interval=interval, period=period, progress=False)\n"
     ]
    },
    {
     "name": "stdout",
     "output_type": "stream",
     "text": [
      "          Close        High         Low        Open  Volume  \\\n",
      "291  201.269897  201.309998  201.240005  201.270004   68177   \n",
      "292  201.330002  201.360001  201.229996  201.259995   92289   \n",
      "293  201.246994  201.339996  201.229996  201.324997   65158   \n",
      "294  201.160004  201.330002  201.119995  201.259995  130222   \n",
      "295  201.113098  201.113098  201.113098  201.113098       0   \n",
      "\n",
      "                         Date  \n",
      "291 2025-06-26 23:54:00+05:30  \n",
      "292 2025-06-26 23:55:00+05:30  \n",
      "293 2025-06-26 23:56:00+05:30  \n",
      "294 2025-06-26 23:57:00+05:30  \n",
      "295 2025-06-26 23:58:00+05:30  \n",
      "Index(['Close', 'High', 'Low', 'Open', 'Volume', 'Date'], dtype='object')\n"
     ]
    }
   ],
   "source": [
    "import sys\n",
    "import os\n",
    "sys.path.append(os.path.abspath(os.path.join(os.getcwd(), '..')))\n",
    "\n",
    "from src.utils.data_loader import fetch_data\n",
    "\n",
    "df = fetch_data(\"AAPL\")\n",
    "print(df.tail())\n",
    "print(df.columns)\n",
    "\n",
    "\n"
   ]
  }
 ],
 "metadata": {
  "kernelspec": {
   "display_name": ".venv",
   "language": "python",
   "name": "python3"
  },
  "language_info": {
   "codemirror_mode": {
    "name": "ipython",
    "version": 3
   },
   "file_extension": ".py",
   "mimetype": "text/x-python",
   "name": "python",
   "nbconvert_exporter": "python",
   "pygments_lexer": "ipython3",
   "version": "3.10.9"
  }
 },
 "nbformat": 4,
 "nbformat_minor": 5
}
