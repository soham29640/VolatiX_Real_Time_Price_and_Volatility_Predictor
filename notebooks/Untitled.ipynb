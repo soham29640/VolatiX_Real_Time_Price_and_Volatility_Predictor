{
 "cells": [
  {
   "cell_type": "code",
   "execution_count": 1,
   "id": "2ad0645d",
   "metadata": {},
   "outputs": [
    {
     "name": "stderr",
     "output_type": "stream",
     "text": [
      "c:\\Users\\KIIT0001\\Documents\\Github project\\VolatiX_Real_Time_Price_and_Volatility_Predictor\\src\\utils\\data_loader.py:5: FutureWarning: YF.download() has changed argument auto_adjust default to True\n",
      "  df = yf.download(ticker, interval=interval, period=period, progress=False)\n"
     ]
    },
    {
     "name": "stdout",
     "output_type": "stream",
     "text": [
      "                     Datetime       Close        High         Low        Open  \\\n",
      "382 2025-06-26 19:55:00+00:00  201.184998  201.279999  200.899994  201.279999   \n",
      "383 2025-06-26 19:56:00+00:00  201.205002  201.225006  201.009995  201.190002   \n",
      "384 2025-06-26 19:57:00+00:00  201.199997  201.229996  201.125000  201.199997   \n",
      "385 2025-06-26 19:58:00+00:00  201.229996  201.229996  201.121506  201.220001   \n",
      "386 2025-06-26 19:59:00+00:00  200.940002  201.272507  200.789993  201.220001   \n",
      "\n",
      "      Volume                      Date  \n",
      "382   459595 2025-06-27 01:25:00+05:30  \n",
      "383   330047 2025-06-27 01:26:00+05:30  \n",
      "384   442216 2025-06-27 01:27:00+05:30  \n",
      "385   415479 2025-06-27 01:28:00+05:30  \n",
      "386  1114861 2025-06-27 01:29:00+05:30  \n",
      "Index(['Datetime', 'Close', 'High', 'Low', 'Open', 'Volume', 'Date'], dtype='object')\n"
     ]
    }
   ],
   "source": [
    "import sys\n",
    "import os\n",
    "sys.path.append(os.path.abspath(os.path.join(os.getcwd(), '..')))\n",
    "\n",
    "from src.utils.data_loader import fetch_data\n",
    "\n",
    "df = fetch_data(\"AAPL\")\n",
    "print(df.tail())\n",
    "print(df.columns)\n",
    "\n",
    "\n"
   ]
  }
 ],
 "metadata": {
  "kernelspec": {
   "display_name": ".venv",
   "language": "python",
   "name": "python3"
  },
  "language_info": {
   "codemirror_mode": {
    "name": "ipython",
    "version": 3
   },
   "file_extension": ".py",
   "mimetype": "text/x-python",
   "name": "python",
   "nbconvert_exporter": "python",
   "pygments_lexer": "ipython3",
   "version": "3.10.9"
  }
 },
 "nbformat": 4,
 "nbformat_minor": 5
}
