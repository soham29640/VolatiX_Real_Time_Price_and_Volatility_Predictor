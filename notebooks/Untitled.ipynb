{
 "cells": [
  {
   "cell_type": "code",
   "execution_count": 1,
   "id": "2ad0645d",
   "metadata": {},
   "outputs": [
    {
     "name": "stderr",
     "output_type": "stream",
     "text": [
      "c:\\Users\\KIIT0001\\Documents\\Github project\\VolatiX_Real_Time_Price_and_Volatility_Predictor\\src\\utils\\data_loader.py:5: FutureWarning: YF.download() has changed argument auto_adjust default to True\n",
      "  df = yf.download(ticker, interval=interval, period=period, progress=False)\n"
     ]
    },
    {
     "name": "stdout",
     "output_type": "stream",
     "text": [
      "          Close        High         Low        Open  Volume  \\\n",
      "377  201.350006  201.419800  201.149994  201.285004  190510   \n",
      "378  201.318695  201.409897  201.289993  201.350006  129942   \n",
      "379  201.309296  201.380005  201.270004  201.319901  159050   \n",
      "380  201.475006  201.479996  201.274994  201.309998  329188   \n",
      "381  201.600006  201.600006  201.419998  201.479996  835682   \n",
      "\n",
      "                         Date  \n",
      "377 2025-06-26 01:25:00+05:30  \n",
      "378 2025-06-26 01:26:00+05:30  \n",
      "379 2025-06-26 01:27:00+05:30  \n",
      "380 2025-06-26 01:28:00+05:30  \n",
      "381 2025-06-26 01:29:00+05:30  \n",
      "Index(['Close', 'High', 'Low', 'Open', 'Volume', 'Date'], dtype='object')\n"
     ]
    }
   ],
   "source": [
    "import sys\n",
    "import os\n",
    "sys.path.append(os.path.abspath(os.path.join(os.getcwd(), '..')))\n",
    "\n",
    "from src.utils.data_loader import fetch_data\n",
    "\n",
    "df = fetch_data(\"AAPL\")\n",
    "print(df.tail())\n",
    "print(df.columns)\n",
    "\n",
    "\n"
   ]
  }
 ],
 "metadata": {
  "kernelspec": {
   "display_name": ".venv",
   "language": "python",
   "name": "python3"
  },
  "language_info": {
   "codemirror_mode": {
    "name": "ipython",
    "version": 3
   },
   "file_extension": ".py",
   "mimetype": "text/x-python",
   "name": "python",
   "nbconvert_exporter": "python",
   "pygments_lexer": "ipython3",
   "version": "3.10.9"
  }
 },
 "nbformat": 4,
 "nbformat_minor": 5
}
