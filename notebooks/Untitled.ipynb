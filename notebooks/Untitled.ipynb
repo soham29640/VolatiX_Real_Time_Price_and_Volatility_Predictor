{
 "cells": [
  {
   "cell_type": "code",
   "execution_count": 6,
   "id": "2ad0645d",
   "metadata": {},
   "outputs": [
    {
     "name": "stderr",
     "output_type": "stream",
     "text": [
      "c:\\Users\\KIIT0001\\Documents\\Github project\\VolatiX_Real_Time_Price_and_Volatility_Predictor\\src\\utils\\data_loader.py:5: FutureWarning: YF.download() has changed argument auto_adjust default to True\n",
      "  df = yf.download(ticker, interval=\"1m\", period=\"1d\", progress=False)\n"
     ]
    },
    {
     "name": "stdout",
     "output_type": "stream",
     "text": [
      "         Close        High         Low        Open  Volume  \\\n",
      "45  201.490005  201.639999  201.410004  201.410004   90606   \n",
      "46  201.470001  201.490005  201.350098  201.479996   52852   \n",
      "47  201.419998  201.524994  201.399994  201.470001   71619   \n",
      "48  201.306396  201.429993  201.259995  201.410004   94106   \n",
      "49  201.313797  201.313797  201.313797  201.313797       0   \n",
      "\n",
      "                   Date  \n",
      "45  2025-06-25 14:15:00  \n",
      "46  2025-06-25 14:16:00  \n",
      "47  2025-06-25 14:17:00  \n",
      "48  2025-06-25 14:18:00  \n",
      "49  2025-06-25 14:19:00  \n",
      "Index(['Close', 'High', 'Low', 'Open', 'Volume', 'Date'], dtype='object')\n"
     ]
    }
   ],
   "source": [
    "import sys\n",
    "import os\n",
    "sys.path.append(os.path.abspath(os.path.join(os.getcwd(), '..')))\n",
    "\n",
    "from src.utils.data_loader import fetch_data\n",
    "\n",
    "df = fetch_data(\"AAPL\")\n",
    "print(df.tail())\n",
    "print(df.columns)\n",
    "\n",
    "\n"
   ]
  }
 ],
 "metadata": {
  "kernelspec": {
   "display_name": ".venv",
   "language": "python",
   "name": "python3"
  },
  "language_info": {
   "codemirror_mode": {
    "name": "ipython",
    "version": 3
   },
   "file_extension": ".py",
   "mimetype": "text/x-python",
   "name": "python",
   "nbconvert_exporter": "python",
   "pygments_lexer": "ipython3",
   "version": "3.11.8"
  }
 },
 "nbformat": 4,
 "nbformat_minor": 5
}
